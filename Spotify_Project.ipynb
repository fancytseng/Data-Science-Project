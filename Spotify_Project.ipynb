{
 "cells": [
  {
   "cell_type": "markdown",
   "metadata": {},
   "source": [
    "# DS Project"
   ]
  },
  {
   "cell_type": "markdown",
   "metadata": {},
   "source": [
    "## Import Datasets and Library Packages"
   ]
  },
  {
   "cell_type": "code",
   "execution_count": 37,
   "metadata": {},
   "outputs": [],
   "source": [
    "import pandas as pd\n",
    "import numpy as np\n",
    "import seaborn as sns\n",
    "import matplotlib.pyplot as plt\n",
    "from sklearn import preprocessing\n",
    "from sklearn.model_selection import train_test_split\n",
    "from sklearn.ensemble import RandomForestRegressor\n",
    "from keras.models import Sequential\n",
    "from keras.layers import Dense\n",
    "from keras.wrappers.scikit_learn import KerasRegressor\n",
    "from sklearn.model_selection import GridSearchCV\n",
    "from sklearn.metrics import r2_score\n",
    "from sklearn.metrics import mean_squared_error\n",
    "import datetime as dt\n",
    "from datetime import datetime"
   ]
  },
  {
   "cell_type": "code",
   "execution_count": 2,
   "metadata": {},
   "outputs": [],
   "source": [
    "df=pd.read_csv('data.csv')\n",
    "df2017=pd.read_csv('featuresdf.csv')\n",
    "df2018=pd.read_csv('top2018.csv')"
   ]
  },
  {
   "cell_type": "markdown",
   "metadata": {},
   "source": [
    "## Data Cleaning and Processing "
   ]
  },
  {
   "cell_type": "code",
   "execution_count": 3,
   "metadata": {},
   "outputs": [],
   "source": [
    "df.columns = (df.columns.str.lower()\n",
    "                .str.replace(' ', '_'))\n",
    "df.drop('url',axis=1,inplace=True)"
   ]
  },
  {
   "cell_type": "code",
   "execution_count": 4,
   "metadata": {
    "scrolled": false
   },
   "outputs": [
    {
     "data": {
      "text/html": [
       "<div>\n",
       "<style scoped>\n",
       "    .dataframe tbody tr th:only-of-type {\n",
       "        vertical-align: middle;\n",
       "    }\n",
       "\n",
       "    .dataframe tbody tr th {\n",
       "        vertical-align: top;\n",
       "    }\n",
       "\n",
       "    .dataframe thead th {\n",
       "        text-align: right;\n",
       "    }\n",
       "</style>\n",
       "<table border=\"1\" class=\"dataframe\">\n",
       "  <thead>\n",
       "    <tr style=\"text-align: right;\">\n",
       "      <th></th>\n",
       "      <th>position</th>\n",
       "      <th>track_name</th>\n",
       "      <th>artist</th>\n",
       "      <th>streams</th>\n",
       "      <th>date</th>\n",
       "      <th>region</th>\n",
       "    </tr>\n",
       "  </thead>\n",
       "  <tbody>\n",
       "    <tr>\n",
       "      <th>0</th>\n",
       "      <td>1</td>\n",
       "      <td>Reggaetón Lento (Bailemos)</td>\n",
       "      <td>CNCO</td>\n",
       "      <td>19272</td>\n",
       "      <td>2017-01-01</td>\n",
       "      <td>ec</td>\n",
       "    </tr>\n",
       "    <tr>\n",
       "      <th>1</th>\n",
       "      <td>2</td>\n",
       "      <td>Chantaje</td>\n",
       "      <td>Shakira</td>\n",
       "      <td>19270</td>\n",
       "      <td>2017-01-01</td>\n",
       "      <td>ec</td>\n",
       "    </tr>\n",
       "    <tr>\n",
       "      <th>2</th>\n",
       "      <td>3</td>\n",
       "      <td>Otra Vez (feat. J Balvin)</td>\n",
       "      <td>Zion &amp; Lennox</td>\n",
       "      <td>15761</td>\n",
       "      <td>2017-01-01</td>\n",
       "      <td>ec</td>\n",
       "    </tr>\n",
       "    <tr>\n",
       "      <th>3</th>\n",
       "      <td>4</td>\n",
       "      <td>Vente Pa' Ca</td>\n",
       "      <td>Ricky Martin</td>\n",
       "      <td>14954</td>\n",
       "      <td>2017-01-01</td>\n",
       "      <td>ec</td>\n",
       "    </tr>\n",
       "    <tr>\n",
       "      <th>4</th>\n",
       "      <td>5</td>\n",
       "      <td>Safari</td>\n",
       "      <td>J Balvin</td>\n",
       "      <td>14269</td>\n",
       "      <td>2017-01-01</td>\n",
       "      <td>ec</td>\n",
       "    </tr>\n",
       "  </tbody>\n",
       "</table>\n",
       "</div>"
      ],
      "text/plain": [
       "   position                  track_name         artist  streams        date  \\\n",
       "0         1  Reggaetón Lento (Bailemos)           CNCO    19272  2017-01-01   \n",
       "1         2                    Chantaje        Shakira    19270  2017-01-01   \n",
       "2         3   Otra Vez (feat. J Balvin)  Zion & Lennox    15761  2017-01-01   \n",
       "3         4                Vente Pa' Ca   Ricky Martin    14954  2017-01-01   \n",
       "4         5                      Safari       J Balvin    14269  2017-01-01   \n",
       "\n",
       "  region  \n",
       "0     ec  \n",
       "1     ec  \n",
       "2     ec  \n",
       "3     ec  \n",
       "4     ec  "
      ]
     },
     "execution_count": 4,
     "metadata": {},
     "output_type": "execute_result"
    }
   ],
   "source": [
    "df.head()"
   ]
  },
  {
   "cell_type": "code",
   "execution_count": 5,
   "metadata": {
    "scrolled": true
   },
   "outputs": [
    {
     "name": "stdout",
     "output_type": "stream",
     "text": [
      "<class 'pandas.core.frame.DataFrame'>\n",
      "RangeIndex: 3441197 entries, 0 to 3441196\n",
      "Data columns (total 6 columns):\n",
      " #   Column      Dtype \n",
      "---  ------      ----- \n",
      " 0   position    int64 \n",
      " 1   track_name  object\n",
      " 2   artist      object\n",
      " 3   streams     int64 \n",
      " 4   date        object\n",
      " 5   region      object\n",
      "dtypes: int64(2), object(4)\n",
      "memory usage: 157.5+ MB\n"
     ]
    }
   ],
   "source": [
    "df.info()"
   ]
  },
  {
   "cell_type": "code",
   "execution_count": 6,
   "metadata": {},
   "outputs": [
    {
     "data": {
      "text/html": [
       "<div>\n",
       "<style scoped>\n",
       "    .dataframe tbody tr th:only-of-type {\n",
       "        vertical-align: middle;\n",
       "    }\n",
       "\n",
       "    .dataframe tbody tr th {\n",
       "        vertical-align: top;\n",
       "    }\n",
       "\n",
       "    .dataframe thead th {\n",
       "        text-align: right;\n",
       "    }\n",
       "</style>\n",
       "<table border=\"1\" class=\"dataframe\">\n",
       "  <thead>\n",
       "    <tr style=\"text-align: right;\">\n",
       "      <th></th>\n",
       "      <th>position</th>\n",
       "      <th>name</th>\n",
       "      <th>artist</th>\n",
       "      <th>streams</th>\n",
       "      <th>date</th>\n",
       "      <th>region</th>\n",
       "    </tr>\n",
       "  </thead>\n",
       "  <tbody>\n",
       "    <tr>\n",
       "      <th>0</th>\n",
       "      <td>1</td>\n",
       "      <td>Reggaetón Lento (Bailemos)</td>\n",
       "      <td>CNCO</td>\n",
       "      <td>19272</td>\n",
       "      <td>2017-01-01</td>\n",
       "      <td>ec</td>\n",
       "    </tr>\n",
       "    <tr>\n",
       "      <th>1</th>\n",
       "      <td>2</td>\n",
       "      <td>Chantaje</td>\n",
       "      <td>Shakira</td>\n",
       "      <td>19270</td>\n",
       "      <td>2017-01-01</td>\n",
       "      <td>ec</td>\n",
       "    </tr>\n",
       "    <tr>\n",
       "      <th>2</th>\n",
       "      <td>3</td>\n",
       "      <td>Otra Vez (feat. J Balvin)</td>\n",
       "      <td>Zion &amp; Lennox</td>\n",
       "      <td>15761</td>\n",
       "      <td>2017-01-01</td>\n",
       "      <td>ec</td>\n",
       "    </tr>\n",
       "    <tr>\n",
       "      <th>3</th>\n",
       "      <td>4</td>\n",
       "      <td>Vente Pa' Ca</td>\n",
       "      <td>Ricky Martin</td>\n",
       "      <td>14954</td>\n",
       "      <td>2017-01-01</td>\n",
       "      <td>ec</td>\n",
       "    </tr>\n",
       "    <tr>\n",
       "      <th>4</th>\n",
       "      <td>5</td>\n",
       "      <td>Safari</td>\n",
       "      <td>J Balvin</td>\n",
       "      <td>14269</td>\n",
       "      <td>2017-01-01</td>\n",
       "      <td>ec</td>\n",
       "    </tr>\n",
       "  </tbody>\n",
       "</table>\n",
       "</div>"
      ],
      "text/plain": [
       "   position                        name         artist  streams       date  \\\n",
       "0         1  Reggaetón Lento (Bailemos)           CNCO    19272 2017-01-01   \n",
       "1         2                    Chantaje        Shakira    19270 2017-01-01   \n",
       "2         3   Otra Vez (feat. J Balvin)  Zion & Lennox    15761 2017-01-01   \n",
       "3         4                Vente Pa' Ca   Ricky Martin    14954 2017-01-01   \n",
       "4         5                      Safari       J Balvin    14269 2017-01-01   \n",
       "\n",
       "  region  \n",
       "0     ec  \n",
       "1     ec  \n",
       "2     ec  \n",
       "3     ec  \n",
       "4     ec  "
      ]
     },
     "execution_count": 6,
     "metadata": {},
     "output_type": "execute_result"
    }
   ],
   "source": [
    "df['date']=pd.to_datetime(df['date'])\n",
    "df1=df.rename(columns={'track_name':'name'})\n",
    "df1.head()"
   ]
  },
  {
   "cell_type": "code",
   "execution_count": 7,
   "metadata": {
    "scrolled": false
   },
   "outputs": [
    {
     "name": "stdout",
     "output_type": "stream",
     "text": [
      "(100, 16)\n"
     ]
    },
    {
     "data": {
      "text/html": [
       "<div>\n",
       "<style scoped>\n",
       "    .dataframe tbody tr th:only-of-type {\n",
       "        vertical-align: middle;\n",
       "    }\n",
       "\n",
       "    .dataframe tbody tr th {\n",
       "        vertical-align: top;\n",
       "    }\n",
       "\n",
       "    .dataframe thead th {\n",
       "        text-align: right;\n",
       "    }\n",
       "</style>\n",
       "<table border=\"1\" class=\"dataframe\">\n",
       "  <thead>\n",
       "    <tr style=\"text-align: right;\">\n",
       "      <th></th>\n",
       "      <th>name</th>\n",
       "      <th>artist</th>\n",
       "      <th>danceability</th>\n",
       "      <th>energy</th>\n",
       "      <th>key</th>\n",
       "      <th>loudness</th>\n",
       "      <th>mode</th>\n",
       "      <th>speechiness</th>\n",
       "      <th>acousticness</th>\n",
       "      <th>instrumentalness</th>\n",
       "      <th>liveness</th>\n",
       "      <th>valence</th>\n",
       "      <th>tempo</th>\n",
       "      <th>duration_ms</th>\n",
       "      <th>time_signature</th>\n",
       "    </tr>\n",
       "  </thead>\n",
       "  <tbody>\n",
       "    <tr>\n",
       "      <th>0</th>\n",
       "      <td>Shape of You</td>\n",
       "      <td>Ed Sheeran</td>\n",
       "      <td>0.825</td>\n",
       "      <td>0.652</td>\n",
       "      <td>1.0</td>\n",
       "      <td>-3.183</td>\n",
       "      <td>0.0</td>\n",
       "      <td>0.0802</td>\n",
       "      <td>0.5810</td>\n",
       "      <td>0.000000</td>\n",
       "      <td>0.0931</td>\n",
       "      <td>0.931</td>\n",
       "      <td>95.977</td>\n",
       "      <td>233713.0</td>\n",
       "      <td>4.0</td>\n",
       "    </tr>\n",
       "    <tr>\n",
       "      <th>1</th>\n",
       "      <td>Despacito - Remix</td>\n",
       "      <td>Luis Fonsi</td>\n",
       "      <td>0.694</td>\n",
       "      <td>0.815</td>\n",
       "      <td>2.0</td>\n",
       "      <td>-4.328</td>\n",
       "      <td>1.0</td>\n",
       "      <td>0.1200</td>\n",
       "      <td>0.2290</td>\n",
       "      <td>0.000000</td>\n",
       "      <td>0.0924</td>\n",
       "      <td>0.813</td>\n",
       "      <td>88.931</td>\n",
       "      <td>228827.0</td>\n",
       "      <td>4.0</td>\n",
       "    </tr>\n",
       "    <tr>\n",
       "      <th>2</th>\n",
       "      <td>Despacito (Featuring Daddy Yankee)</td>\n",
       "      <td>Luis Fonsi</td>\n",
       "      <td>0.660</td>\n",
       "      <td>0.786</td>\n",
       "      <td>2.0</td>\n",
       "      <td>-4.757</td>\n",
       "      <td>1.0</td>\n",
       "      <td>0.1700</td>\n",
       "      <td>0.2090</td>\n",
       "      <td>0.000000</td>\n",
       "      <td>0.1120</td>\n",
       "      <td>0.846</td>\n",
       "      <td>177.833</td>\n",
       "      <td>228200.0</td>\n",
       "      <td>4.0</td>\n",
       "    </tr>\n",
       "    <tr>\n",
       "      <th>3</th>\n",
       "      <td>Something Just Like This</td>\n",
       "      <td>The Chainsmokers</td>\n",
       "      <td>0.617</td>\n",
       "      <td>0.635</td>\n",
       "      <td>11.0</td>\n",
       "      <td>-6.769</td>\n",
       "      <td>0.0</td>\n",
       "      <td>0.0317</td>\n",
       "      <td>0.0498</td>\n",
       "      <td>0.000014</td>\n",
       "      <td>0.1640</td>\n",
       "      <td>0.446</td>\n",
       "      <td>103.019</td>\n",
       "      <td>247160.0</td>\n",
       "      <td>4.0</td>\n",
       "    </tr>\n",
       "    <tr>\n",
       "      <th>4</th>\n",
       "      <td>I'm the One</td>\n",
       "      <td>DJ Khaled</td>\n",
       "      <td>0.609</td>\n",
       "      <td>0.668</td>\n",
       "      <td>7.0</td>\n",
       "      <td>-4.284</td>\n",
       "      <td>1.0</td>\n",
       "      <td>0.0367</td>\n",
       "      <td>0.0552</td>\n",
       "      <td>0.000000</td>\n",
       "      <td>0.1670</td>\n",
       "      <td>0.811</td>\n",
       "      <td>80.924</td>\n",
       "      <td>288600.0</td>\n",
       "      <td>4.0</td>\n",
       "    </tr>\n",
       "  </tbody>\n",
       "</table>\n",
       "</div>"
      ],
      "text/plain": [
       "                                 name            artist  danceability  energy  \\\n",
       "0                        Shape of You        Ed Sheeran         0.825   0.652   \n",
       "1                   Despacito - Remix        Luis Fonsi         0.694   0.815   \n",
       "2  Despacito (Featuring Daddy Yankee)        Luis Fonsi         0.660   0.786   \n",
       "3            Something Just Like This  The Chainsmokers         0.617   0.635   \n",
       "4                         I'm the One         DJ Khaled         0.609   0.668   \n",
       "\n",
       "    key  loudness  mode  speechiness  acousticness  instrumentalness  \\\n",
       "0   1.0    -3.183   0.0       0.0802        0.5810          0.000000   \n",
       "1   2.0    -4.328   1.0       0.1200        0.2290          0.000000   \n",
       "2   2.0    -4.757   1.0       0.1700        0.2090          0.000000   \n",
       "3  11.0    -6.769   0.0       0.0317        0.0498          0.000014   \n",
       "4   7.0    -4.284   1.0       0.0367        0.0552          0.000000   \n",
       "\n",
       "   liveness  valence    tempo  duration_ms  time_signature  \n",
       "0    0.0931    0.931   95.977     233713.0             4.0  \n",
       "1    0.0924    0.813   88.931     228827.0             4.0  \n",
       "2    0.1120    0.846  177.833     228200.0             4.0  \n",
       "3    0.1640    0.446  103.019     247160.0             4.0  \n",
       "4    0.1670    0.811   80.924     288600.0             4.0  "
      ]
     },
     "execution_count": 7,
     "metadata": {},
     "output_type": "execute_result"
    }
   ],
   "source": [
    "print(df2017.shape)\n",
    "df2017.drop('id',axis=1,inplace=True)\n",
    "df2017.rename(columns={'artists':'artist'},inplace=True)\n",
    "df2017.head()"
   ]
  },
  {
   "cell_type": "code",
   "execution_count": 8,
   "metadata": {
    "scrolled": true
   },
   "outputs": [
    {
     "name": "stdout",
     "output_type": "stream",
     "text": [
      "(100, 16)\n"
     ]
    },
    {
     "data": {
      "text/html": [
       "<div>\n",
       "<style scoped>\n",
       "    .dataframe tbody tr th:only-of-type {\n",
       "        vertical-align: middle;\n",
       "    }\n",
       "\n",
       "    .dataframe tbody tr th {\n",
       "        vertical-align: top;\n",
       "    }\n",
       "\n",
       "    .dataframe thead th {\n",
       "        text-align: right;\n",
       "    }\n",
       "</style>\n",
       "<table border=\"1\" class=\"dataframe\">\n",
       "  <thead>\n",
       "    <tr style=\"text-align: right;\">\n",
       "      <th></th>\n",
       "      <th>name</th>\n",
       "      <th>artist</th>\n",
       "      <th>danceability</th>\n",
       "      <th>energy</th>\n",
       "      <th>key</th>\n",
       "      <th>loudness</th>\n",
       "      <th>mode</th>\n",
       "      <th>speechiness</th>\n",
       "      <th>acousticness</th>\n",
       "      <th>instrumentalness</th>\n",
       "      <th>liveness</th>\n",
       "      <th>valence</th>\n",
       "      <th>tempo</th>\n",
       "      <th>duration_ms</th>\n",
       "      <th>time_signature</th>\n",
       "    </tr>\n",
       "  </thead>\n",
       "  <tbody>\n",
       "    <tr>\n",
       "      <th>0</th>\n",
       "      <td>God's Plan</td>\n",
       "      <td>Drake</td>\n",
       "      <td>0.754</td>\n",
       "      <td>0.449</td>\n",
       "      <td>7.0</td>\n",
       "      <td>-9.211</td>\n",
       "      <td>1.0</td>\n",
       "      <td>0.1090</td>\n",
       "      <td>0.0332</td>\n",
       "      <td>0.000083</td>\n",
       "      <td>0.552</td>\n",
       "      <td>0.357</td>\n",
       "      <td>77.169</td>\n",
       "      <td>198973.0</td>\n",
       "      <td>4.0</td>\n",
       "    </tr>\n",
       "    <tr>\n",
       "      <th>1</th>\n",
       "      <td>SAD!</td>\n",
       "      <td>XXXTENTACION</td>\n",
       "      <td>0.740</td>\n",
       "      <td>0.613</td>\n",
       "      <td>8.0</td>\n",
       "      <td>-4.880</td>\n",
       "      <td>1.0</td>\n",
       "      <td>0.1450</td>\n",
       "      <td>0.2580</td>\n",
       "      <td>0.003720</td>\n",
       "      <td>0.123</td>\n",
       "      <td>0.473</td>\n",
       "      <td>75.023</td>\n",
       "      <td>166606.0</td>\n",
       "      <td>4.0</td>\n",
       "    </tr>\n",
       "    <tr>\n",
       "      <th>2</th>\n",
       "      <td>rockstar (feat. 21 Savage)</td>\n",
       "      <td>Post Malone</td>\n",
       "      <td>0.587</td>\n",
       "      <td>0.535</td>\n",
       "      <td>5.0</td>\n",
       "      <td>-6.090</td>\n",
       "      <td>0.0</td>\n",
       "      <td>0.0898</td>\n",
       "      <td>0.1170</td>\n",
       "      <td>0.000066</td>\n",
       "      <td>0.131</td>\n",
       "      <td>0.140</td>\n",
       "      <td>159.847</td>\n",
       "      <td>218147.0</td>\n",
       "      <td>4.0</td>\n",
       "    </tr>\n",
       "    <tr>\n",
       "      <th>3</th>\n",
       "      <td>Psycho (feat. Ty Dolla $ign)</td>\n",
       "      <td>Post Malone</td>\n",
       "      <td>0.739</td>\n",
       "      <td>0.559</td>\n",
       "      <td>8.0</td>\n",
       "      <td>-8.011</td>\n",
       "      <td>1.0</td>\n",
       "      <td>0.1170</td>\n",
       "      <td>0.5800</td>\n",
       "      <td>0.000000</td>\n",
       "      <td>0.112</td>\n",
       "      <td>0.439</td>\n",
       "      <td>140.124</td>\n",
       "      <td>221440.0</td>\n",
       "      <td>4.0</td>\n",
       "    </tr>\n",
       "    <tr>\n",
       "      <th>4</th>\n",
       "      <td>In My Feelings</td>\n",
       "      <td>Drake</td>\n",
       "      <td>0.835</td>\n",
       "      <td>0.626</td>\n",
       "      <td>1.0</td>\n",
       "      <td>-5.833</td>\n",
       "      <td>1.0</td>\n",
       "      <td>0.1250</td>\n",
       "      <td>0.0589</td>\n",
       "      <td>0.000060</td>\n",
       "      <td>0.396</td>\n",
       "      <td>0.350</td>\n",
       "      <td>91.030</td>\n",
       "      <td>217925.0</td>\n",
       "      <td>4.0</td>\n",
       "    </tr>\n",
       "  </tbody>\n",
       "</table>\n",
       "</div>"
      ],
      "text/plain": [
       "                           name        artist  danceability  energy  key  \\\n",
       "0                    God's Plan         Drake         0.754   0.449  7.0   \n",
       "1                          SAD!  XXXTENTACION         0.740   0.613  8.0   \n",
       "2    rockstar (feat. 21 Savage)   Post Malone         0.587   0.535  5.0   \n",
       "3  Psycho (feat. Ty Dolla $ign)   Post Malone         0.739   0.559  8.0   \n",
       "4                In My Feelings         Drake         0.835   0.626  1.0   \n",
       "\n",
       "   loudness  mode  speechiness  acousticness  instrumentalness  liveness  \\\n",
       "0    -9.211   1.0       0.1090        0.0332          0.000083     0.552   \n",
       "1    -4.880   1.0       0.1450        0.2580          0.003720     0.123   \n",
       "2    -6.090   0.0       0.0898        0.1170          0.000066     0.131   \n",
       "3    -8.011   1.0       0.1170        0.5800          0.000000     0.112   \n",
       "4    -5.833   1.0       0.1250        0.0589          0.000060     0.396   \n",
       "\n",
       "   valence    tempo  duration_ms  time_signature  \n",
       "0    0.357   77.169     198973.0             4.0  \n",
       "1    0.473   75.023     166606.0             4.0  \n",
       "2    0.140  159.847     218147.0             4.0  \n",
       "3    0.439  140.124     221440.0             4.0  \n",
       "4    0.350   91.030     217925.0             4.0  "
      ]
     },
     "execution_count": 8,
     "metadata": {},
     "output_type": "execute_result"
    }
   ],
   "source": [
    "print(df2018.shape)\n",
    "df2018.drop('id',axis=1,inplace=True)\n",
    "df2018.rename(columns={'artists':'artist'},inplace=True)\n",
    "df2018.head()"
   ]
  },
  {
   "cell_type": "code",
   "execution_count": 9,
   "metadata": {},
   "outputs": [
    {
     "data": {
      "text/plain": [
       "position      0\n",
       "name        657\n",
       "artist      657\n",
       "streams       0\n",
       "date          0\n",
       "region        0\n",
       "dtype: int64"
      ]
     },
     "execution_count": 9,
     "metadata": {},
     "output_type": "execute_result"
    }
   ],
   "source": [
    "df1.isnull().sum()"
   ]
  },
  {
   "cell_type": "markdown",
   "metadata": {},
   "source": [
    "**Checking if rows of records missing names also mising artist name**"
   ]
  },
  {
   "cell_type": "code",
   "execution_count": 10,
   "metadata": {},
   "outputs": [
    {
     "data": {
      "text/plain": [
       "True"
      ]
     },
     "execution_count": 10,
     "metadata": {},
     "output_type": "execute_result"
    }
   ],
   "source": [
    "(df1['name'].isnull()==df1['artist'].isnull()).any()"
   ]
  },
  {
   "cell_type": "code",
   "execution_count": 11,
   "metadata": {},
   "outputs": [],
   "source": [
    "df1.dropna(inplace=True)"
   ]
  },
  {
   "cell_type": "code",
   "execution_count": 12,
   "metadata": {},
   "outputs": [
    {
     "name": "stdout",
     "output_type": "stream",
     "text": [
      "<class 'pandas.core.frame.DataFrame'>\n",
      "Int64Index: 3440540 entries, 0 to 3441196\n",
      "Data columns (total 6 columns):\n",
      " #   Column    Dtype         \n",
      "---  ------    -----         \n",
      " 0   position  int64         \n",
      " 1   name      object        \n",
      " 2   artist    object        \n",
      " 3   streams   int64         \n",
      " 4   date      datetime64[ns]\n",
      " 5   region    object        \n",
      "dtypes: datetime64[ns](1), int64(2), object(3)\n",
      "memory usage: 183.7+ MB\n"
     ]
    }
   ],
   "source": [
    "df1.info()"
   ]
  },
  {
   "cell_type": "code",
   "execution_count": 13,
   "metadata": {},
   "outputs": [
    {
     "name": "stdout",
     "output_type": "stream",
     "text": [
      "<class 'pandas.core.frame.DataFrame'>\n",
      "Int64Index: 951127 entries, 0 to 951126\n",
      "Data columns (total 19 columns):\n",
      " #   Column            Non-Null Count   Dtype         \n",
      "---  ------            --------------   -----         \n",
      " 0   position          951127 non-null  int64         \n",
      " 1   name              951127 non-null  object        \n",
      " 2   artist            951127 non-null  object        \n",
      " 3   streams           951127 non-null  int64         \n",
      " 4   date              951127 non-null  datetime64[ns]\n",
      " 5   region            951127 non-null  object        \n",
      " 6   danceability      951127 non-null  float64       \n",
      " 7   energy            951127 non-null  float64       \n",
      " 8   key               951127 non-null  float64       \n",
      " 9   loudness          951127 non-null  float64       \n",
      " 10  mode              951127 non-null  float64       \n",
      " 11  speechiness       951127 non-null  float64       \n",
      " 12  acousticness      951127 non-null  float64       \n",
      " 13  instrumentalness  951127 non-null  float64       \n",
      " 14  liveness          951127 non-null  float64       \n",
      " 15  valence           951127 non-null  float64       \n",
      " 16  tempo             951127 non-null  float64       \n",
      " 17  duration_ms       951127 non-null  float64       \n",
      " 18  time_signature    951127 non-null  float64       \n",
      "dtypes: datetime64[ns](1), float64(13), int64(2), object(3)\n",
      "memory usage: 145.1+ MB\n"
     ]
    }
   ],
   "source": [
    "df2=pd.merge(df1,df2017,how='inner',on=['name','artist'])\n",
    "df2.info()"
   ]
  },
  {
   "cell_type": "code",
   "execution_count": 14,
   "metadata": {},
   "outputs": [
    {
     "name": "stdout",
     "output_type": "stream",
     "text": [
      "<class 'pandas.core.frame.DataFrame'>\n",
      "Int64Index: 200916 entries, 0 to 200915\n",
      "Data columns (total 19 columns):\n",
      " #   Column            Non-Null Count   Dtype         \n",
      "---  ------            --------------   -----         \n",
      " 0   position          200916 non-null  int64         \n",
      " 1   name              200916 non-null  object        \n",
      " 2   artist            200916 non-null  object        \n",
      " 3   streams           200916 non-null  int64         \n",
      " 4   date              200916 non-null  datetime64[ns]\n",
      " 5   region            200916 non-null  object        \n",
      " 6   danceability      200916 non-null  float64       \n",
      " 7   energy            200916 non-null  float64       \n",
      " 8   key               200916 non-null  float64       \n",
      " 9   loudness          200916 non-null  float64       \n",
      " 10  mode              200916 non-null  float64       \n",
      " 11  speechiness       200916 non-null  float64       \n",
      " 12  acousticness      200916 non-null  float64       \n",
      " 13  instrumentalness  200916 non-null  float64       \n",
      " 14  liveness          200916 non-null  float64       \n",
      " 15  valence           200916 non-null  float64       \n",
      " 16  tempo             200916 non-null  float64       \n",
      " 17  duration_ms       200916 non-null  float64       \n",
      " 18  time_signature    200916 non-null  float64       \n",
      "dtypes: datetime64[ns](1), float64(13), int64(2), object(3)\n",
      "memory usage: 30.7+ MB\n"
     ]
    }
   ],
   "source": [
    "df3=pd.merge(df1,df2018,how='inner',on=['name','artist'])\n",
    "df3.info()"
   ]
  },
  {
   "cell_type": "code",
   "execution_count": 15,
   "metadata": {},
   "outputs": [
    {
     "name": "stdout",
     "output_type": "stream",
     "text": [
      "<class 'pandas.core.frame.DataFrame'>\n",
      "Int64Index: 1152043 entries, 0 to 200915\n",
      "Data columns (total 19 columns):\n",
      " #   Column            Non-Null Count    Dtype         \n",
      "---  ------            --------------    -----         \n",
      " 0   position          1152043 non-null  int64         \n",
      " 1   name              1152043 non-null  object        \n",
      " 2   artist            1152043 non-null  object        \n",
      " 3   streams           1152043 non-null  int64         \n",
      " 4   date              1152043 non-null  datetime64[ns]\n",
      " 5   region            1152043 non-null  object        \n",
      " 6   danceability      1152043 non-null  float64       \n",
      " 7   energy            1152043 non-null  float64       \n",
      " 8   key               1152043 non-null  float64       \n",
      " 9   loudness          1152043 non-null  float64       \n",
      " 10  mode              1152043 non-null  float64       \n",
      " 11  speechiness       1152043 non-null  float64       \n",
      " 12  acousticness      1152043 non-null  float64       \n",
      " 13  instrumentalness  1152043 non-null  float64       \n",
      " 14  liveness          1152043 non-null  float64       \n",
      " 15  valence           1152043 non-null  float64       \n",
      " 16  tempo             1152043 non-null  float64       \n",
      " 17  duration_ms       1152043 non-null  float64       \n",
      " 18  time_signature    1152043 non-null  float64       \n",
      "dtypes: datetime64[ns](1), float64(13), int64(2), object(3)\n",
      "memory usage: 175.8+ MB\n"
     ]
    }
   ],
   "source": [
    "df4=pd.concat([df2,df3])\n",
    "df4.info()"
   ]
  },
  {
   "cell_type": "code",
   "execution_count": 16,
   "metadata": {
    "scrolled": true
   },
   "outputs": [
    {
     "data": {
      "text/plain": [
       "position            0\n",
       "name                0\n",
       "artist              0\n",
       "streams             0\n",
       "date                0\n",
       "region              0\n",
       "danceability        0\n",
       "energy              0\n",
       "key                 0\n",
       "loudness            0\n",
       "mode                0\n",
       "speechiness         0\n",
       "acousticness        0\n",
       "instrumentalness    0\n",
       "liveness            0\n",
       "valence             0\n",
       "tempo               0\n",
       "duration_ms         0\n",
       "time_signature      0\n",
       "dtype: int64"
      ]
     },
     "execution_count": 16,
     "metadata": {},
     "output_type": "execute_result"
    }
   ],
   "source": [
    "df4.isnull().sum()"
   ]
  },
  {
   "cell_type": "markdown",
   "metadata": {},
   "source": [
    "### Correlation on heatmap"
   ]
  },
  {
   "cell_type": "code",
   "execution_count": 17,
   "metadata": {
    "scrolled": true
   },
   "outputs": [
    {
     "data": {
      "text/plain": [
       "<matplotlib.axes._subplots.AxesSubplot at 0x7fe49745e790>"
      ]
     },
     "execution_count": 17,
     "metadata": {},
     "output_type": "execute_result"
    },
    {
     "data": {
      "image/png": "[encoded data removed]",
      "text/plain": [
       "<Figure size 432x288 with 2 Axes>"
      ]
     },
     "metadata": {
      "needs_background": "light"
     },
     "output_type": "display_data"
    }
   ],
   "source": [
    "sns.heatmap(df4.corr(),cmap='coolwarm')"
   ]
  },
  {
   "cell_type": "markdown",
   "metadata": {},
   "source": [
    "### Converting Categorical Columns into Numerical Columns"
   ]
  },
  {
   "cell_type": "code",
   "execution_count": 18,
   "metadata": {},
   "outputs": [],
   "source": [
    "df5= df4.assign(nameid=(df4['name']).astype('category').cat.codes+1)\n",
    "df6=df5.assign(artistid=(df5['artist']).astype('category').cat.codes+1)\n",
    "df7=df6.assign(regionid=(df6['region']).astype('category').cat.codes+1)"
   ]
  },
  {
   "cell_type": "code",
   "execution_count": 19,
   "metadata": {},
   "outputs": [
    {
     "data": {
      "text/html": [
       "<div>\n",
       "<style scoped>\n",
       "    .dataframe tbody tr th:only-of-type {\n",
       "        vertical-align: middle;\n",
       "    }\n",
       "\n",
       "    .dataframe tbody tr th {\n",
       "        vertical-align: top;\n",
       "    }\n",
       "\n",
       "    .dataframe thead th {\n",
       "        text-align: right;\n",
       "    }\n",
       "</style>\n",
       "<table border=\"1\" class=\"dataframe\">\n",
       "  <thead>\n",
       "    <tr style=\"text-align: right;\">\n",
       "      <th></th>\n",
       "      <th>position</th>\n",
       "      <th>name</th>\n",
       "      <th>artist</th>\n",
       "      <th>streams</th>\n",
       "      <th>date</th>\n",
       "      <th>region</th>\n",
       "      <th>danceability</th>\n",
       "      <th>energy</th>\n",
       "      <th>key</th>\n",
       "      <th>loudness</th>\n",
       "      <th>...</th>\n",
       "      <th>acousticness</th>\n",
       "      <th>instrumentalness</th>\n",
       "      <th>liveness</th>\n",
       "      <th>valence</th>\n",
       "      <th>tempo</th>\n",
       "      <th>duration_ms</th>\n",
       "      <th>time_signature</th>\n",
       "      <th>nameid</th>\n",
       "      <th>artistid</th>\n",
       "      <th>regionid</th>\n",
       "    </tr>\n",
       "  </thead>\n",
       "  <tbody>\n",
       "    <tr>\n",
       "      <th>0</th>\n",
       "      <td>1</td>\n",
       "      <td>Reggaetón Lento (Bailemos)</td>\n",
       "      <td>CNCO</td>\n",
       "      <td>19272</td>\n",
       "      <td>2017-01-01</td>\n",
       "      <td>ec</td>\n",
       "      <td>0.761</td>\n",
       "      <td>0.838</td>\n",
       "      <td>4.0</td>\n",
       "      <td>-3.073</td>\n",
       "      <td>...</td>\n",
       "      <td>0.4</td>\n",
       "      <td>0.0</td>\n",
       "      <td>0.176</td>\n",
       "      <td>0.71</td>\n",
       "      <td>93.974</td>\n",
       "      <td>222560.0</td>\n",
       "      <td>4.0</td>\n",
       "      <td>86</td>\n",
       "      <td>11</td>\n",
       "      <td>16</td>\n",
       "    </tr>\n",
       "    <tr>\n",
       "      <th>1</th>\n",
       "      <td>1</td>\n",
       "      <td>Reggaetón Lento (Bailemos)</td>\n",
       "      <td>CNCO</td>\n",
       "      <td>16672</td>\n",
       "      <td>2017-01-02</td>\n",
       "      <td>ec</td>\n",
       "      <td>0.761</td>\n",
       "      <td>0.838</td>\n",
       "      <td>4.0</td>\n",
       "      <td>-3.073</td>\n",
       "      <td>...</td>\n",
       "      <td>0.4</td>\n",
       "      <td>0.0</td>\n",
       "      <td>0.176</td>\n",
       "      <td>0.71</td>\n",
       "      <td>93.974</td>\n",
       "      <td>222560.0</td>\n",
       "      <td>4.0</td>\n",
       "      <td>86</td>\n",
       "      <td>11</td>\n",
       "      <td>16</td>\n",
       "    </tr>\n",
       "    <tr>\n",
       "      <th>2</th>\n",
       "      <td>1</td>\n",
       "      <td>Reggaetón Lento (Bailemos)</td>\n",
       "      <td>CNCO</td>\n",
       "      <td>17258</td>\n",
       "      <td>2017-01-03</td>\n",
       "      <td>ec</td>\n",
       "      <td>0.761</td>\n",
       "      <td>0.838</td>\n",
       "      <td>4.0</td>\n",
       "      <td>-3.073</td>\n",
       "      <td>...</td>\n",
       "      <td>0.4</td>\n",
       "      <td>0.0</td>\n",
       "      <td>0.176</td>\n",
       "      <td>0.71</td>\n",
       "      <td>93.974</td>\n",
       "      <td>222560.0</td>\n",
       "      <td>4.0</td>\n",
       "      <td>86</td>\n",
       "      <td>11</td>\n",
       "      <td>16</td>\n",
       "    </tr>\n",
       "    <tr>\n",
       "      <th>3</th>\n",
       "      <td>1</td>\n",
       "      <td>Reggaetón Lento (Bailemos)</td>\n",
       "      <td>CNCO</td>\n",
       "      <td>18146</td>\n",
       "      <td>2017-01-04</td>\n",
       "      <td>ec</td>\n",
       "      <td>0.761</td>\n",
       "      <td>0.838</td>\n",
       "      <td>4.0</td>\n",
       "      <td>-3.073</td>\n",
       "      <td>...</td>\n",
       "      <td>0.4</td>\n",
       "      <td>0.0</td>\n",
       "      <td>0.176</td>\n",
       "      <td>0.71</td>\n",
       "      <td>93.974</td>\n",
       "      <td>222560.0</td>\n",
       "      <td>4.0</td>\n",
       "      <td>86</td>\n",
       "      <td>11</td>\n",
       "      <td>16</td>\n",
       "    </tr>\n",
       "    <tr>\n",
       "      <th>4</th>\n",
       "      <td>1</td>\n",
       "      <td>Reggaetón Lento (Bailemos)</td>\n",
       "      <td>CNCO</td>\n",
       "      <td>17788</td>\n",
       "      <td>2017-01-05</td>\n",
       "      <td>ec</td>\n",
       "      <td>0.761</td>\n",
       "      <td>0.838</td>\n",
       "      <td>4.0</td>\n",
       "      <td>-3.073</td>\n",
       "      <td>...</td>\n",
       "      <td>0.4</td>\n",
       "      <td>0.0</td>\n",
       "      <td>0.176</td>\n",
       "      <td>0.71</td>\n",
       "      <td>93.974</td>\n",
       "      <td>222560.0</td>\n",
       "      <td>4.0</td>\n",
       "      <td>86</td>\n",
       "      <td>11</td>\n",
       "      <td>16</td>\n",
       "    </tr>\n",
       "  </tbody>\n",
       "</table>\n",
       "<p>5 rows × 22 columns</p>\n",
       "</div>"
      ],
      "text/plain": [
       "   position                        name artist  streams       date region  \\\n",
       "0         1  Reggaetón Lento (Bailemos)   CNCO    19272 2017-01-01     ec   \n",
       "1         1  Reggaetón Lento (Bailemos)   CNCO    16672 2017-01-02     ec   \n",
       "2         1  Reggaetón Lento (Bailemos)   CNCO    17258 2017-01-03     ec   \n",
       "3         1  Reggaetón Lento (Bailemos)   CNCO    18146 2017-01-04     ec   \n",
       "4         1  Reggaetón Lento (Bailemos)   CNCO    17788 2017-01-05     ec   \n",
       "\n",
       "   danceability  energy  key  loudness  ...  acousticness  instrumentalness  \\\n",
       "0         0.761   0.838  4.0    -3.073  ...           0.4               0.0   \n",
       "1         0.761   0.838  4.0    -3.073  ...           0.4               0.0   \n",
       "2         0.761   0.838  4.0    -3.073  ...           0.4               0.0   \n",
       "3         0.761   0.838  4.0    -3.073  ...           0.4               0.0   \n",
       "4         0.761   0.838  4.0    -3.073  ...           0.4               0.0   \n",
       "\n",
       "   liveness  valence   tempo  duration_ms  time_signature  nameid  artistid  \\\n",
       "0     0.176     0.71  93.974     222560.0             4.0      86        11   \n",
       "1     0.176     0.71  93.974     222560.0             4.0      86        11   \n",
       "2     0.176     0.71  93.974     222560.0             4.0      86        11   \n",
       "3     0.176     0.71  93.974     222560.0             4.0      86        11   \n",
       "4     0.176     0.71  93.974     222560.0             4.0      86        11   \n",
       "\n",
       "   regionid  \n",
       "0        16  \n",
       "1        16  \n",
       "2        16  \n",
       "3        16  \n",
       "4        16  \n",
       "\n",
       "[5 rows x 22 columns]"
      ]
     },
     "execution_count": 19,
     "metadata": {},
     "output_type": "execute_result"
    }
   ],
   "source": [
    "df7.head()"
   ]
  },
  {
   "cell_type": "markdown",
   "metadata": {},
   "source": [
    "### Create Reference Table for Name, Artist and Region"
   ]
  },
  {
   "cell_type": "code",
   "execution_count": 20,
   "metadata": {},
   "outputs": [],
   "source": [
    "name_ref=df7[['name','nameid']].drop_duplicates()\n",
    "artist_ref=df7[['artist','artistid']].drop_duplicates()\n",
    "region_ref=df7[['region','regionid']].drop_duplicates()"
   ]
  },
  {
   "cell_type": "code",
   "execution_count": 21,
   "metadata": {},
   "outputs": [],
   "source": [
    "df7.drop(['name','artist','region'],axis=1,inplace=True)"
   ]
  },
  {
   "cell_type": "markdown",
   "metadata": {},
   "source": [
    "### Split Datetime and Convert to Numerical Data Type"
   ]
  },
  {
   "cell_type": "code",
   "execution_count": 22,
   "metadata": {},
   "outputs": [],
   "source": [
    "df7['year']=df7['date'].dt.year\n",
    "df7['month']=df7['date'].dt.month\n",
    "df7['day']=df7['date'].dt.day\n",
    "df7.drop('date',axis=1,inplace=True)"
   ]
  },
  {
   "cell_type": "code",
   "execution_count": 23,
   "metadata": {},
   "outputs": [],
   "source": [
    "df7.drop('position',axis=1,inplace=True)"
   ]
  },
  {
   "cell_type": "code",
   "execution_count": 24,
   "metadata": {
    "scrolled": true
   },
   "outputs": [
    {
     "data": {
      "text/plain": [
       "Index(['streams', 'danceability', 'energy', 'key', 'loudness', 'mode',\n",
       "       'speechiness', 'acousticness', 'instrumentalness', 'liveness',\n",
       "       'valence', 'tempo', 'duration_ms', 'time_signature', 'nameid',\n",
       "       'artistid', 'regionid', 'year', 'month', 'day'],\n",
       "      dtype='object')"
      ]
     },
     "execution_count": 24,
     "metadata": {},
     "output_type": "execute_result"
    }
   ],
   "source": [
    "df7.columns"
   ]
  },
  {
   "cell_type": "markdown",
   "metadata": {},
   "source": [
    "### Standardize Features"
   ]
  },
  {
   "cell_type": "code",
   "execution_count": 25,
   "metadata": {},
   "outputs": [
    {
     "data": {
      "text/html": [
       "<div>\n",
       "<style scoped>\n",
       "    .dataframe tbody tr th:only-of-type {\n",
       "        vertical-align: middle;\n",
       "    }\n",
       "\n",
       "    .dataframe tbody tr th {\n",
       "        vertical-align: top;\n",
       "    }\n",
       "\n",
       "    .dataframe thead th {\n",
       "        text-align: right;\n",
       "    }\n",
       "</style>\n",
       "<table border=\"1\" class=\"dataframe\">\n",
       "  <thead>\n",
       "    <tr style=\"text-align: right;\">\n",
       "      <th></th>\n",
       "      <th>streams</th>\n",
       "      <th>danceability</th>\n",
       "      <th>energy</th>\n",
       "      <th>key</th>\n",
       "      <th>loudness</th>\n",
       "      <th>mode</th>\n",
       "      <th>speechiness</th>\n",
       "      <th>acousticness</th>\n",
       "      <th>instrumentalness</th>\n",
       "      <th>liveness</th>\n",
       "      <th>valence</th>\n",
       "      <th>tempo</th>\n",
       "      <th>duration_ms</th>\n",
       "      <th>time_signature</th>\n",
       "      <th>nameid</th>\n",
       "      <th>artistid</th>\n",
       "      <th>regionid</th>\n",
       "      <th>year</th>\n",
       "      <th>month</th>\n",
       "      <th>day</th>\n",
       "    </tr>\n",
       "  </thead>\n",
       "  <tbody>\n",
       "    <tr>\n",
       "      <th>0</th>\n",
       "      <td>19272</td>\n",
       "      <td>0.517125</td>\n",
       "      <td>1.266534</td>\n",
       "      <td>-0.34293</td>\n",
       "      <td>1.436151</td>\n",
       "      <td>-1.103904</td>\n",
       "      <td>-0.545514</td>\n",
       "      <td>1.297062</td>\n",
       "      <td>-0.202938</td>\n",
       "      <td>0.373639</td>\n",
       "      <td>0.829562</td>\n",
       "      <td>-0.938281</td>\n",
       "      <td>0.208192</td>\n",
       "      <td>0.156216</td>\n",
       "      <td>86</td>\n",
       "      <td>11</td>\n",
       "      <td>16</td>\n",
       "      <td>2017</td>\n",
       "      <td>1</td>\n",
       "      <td>1</td>\n",
       "    </tr>\n",
       "    <tr>\n",
       "      <th>1</th>\n",
       "      <td>16672</td>\n",
       "      <td>0.517125</td>\n",
       "      <td>1.266534</td>\n",
       "      <td>-0.34293</td>\n",
       "      <td>1.436151</td>\n",
       "      <td>-1.103904</td>\n",
       "      <td>-0.545514</td>\n",
       "      <td>1.297062</td>\n",
       "      <td>-0.202938</td>\n",
       "      <td>0.373639</td>\n",
       "      <td>0.829562</td>\n",
       "      <td>-0.938281</td>\n",
       "      <td>0.208192</td>\n",
       "      <td>0.156216</td>\n",
       "      <td>86</td>\n",
       "      <td>11</td>\n",
       "      <td>16</td>\n",
       "      <td>2017</td>\n",
       "      <td>1</td>\n",
       "      <td>2</td>\n",
       "    </tr>\n",
       "    <tr>\n",
       "      <th>2</th>\n",
       "      <td>17258</td>\n",
       "      <td>0.517125</td>\n",
       "      <td>1.266534</td>\n",
       "      <td>-0.34293</td>\n",
       "      <td>1.436151</td>\n",
       "      <td>-1.103904</td>\n",
       "      <td>-0.545514</td>\n",
       "      <td>1.297062</td>\n",
       "      <td>-0.202938</td>\n",
       "      <td>0.373639</td>\n",
       "      <td>0.829562</td>\n",
       "      <td>-0.938281</td>\n",
       "      <td>0.208192</td>\n",
       "      <td>0.156216</td>\n",
       "      <td>86</td>\n",
       "      <td>11</td>\n",
       "      <td>16</td>\n",
       "      <td>2017</td>\n",
       "      <td>1</td>\n",
       "      <td>3</td>\n",
       "    </tr>\n",
       "    <tr>\n",
       "      <th>3</th>\n",
       "      <td>18146</td>\n",
       "      <td>0.517125</td>\n",
       "      <td>1.266534</td>\n",
       "      <td>-0.34293</td>\n",
       "      <td>1.436151</td>\n",
       "      <td>-1.103904</td>\n",
       "      <td>-0.545514</td>\n",
       "      <td>1.297062</td>\n",
       "      <td>-0.202938</td>\n",
       "      <td>0.373639</td>\n",
       "      <td>0.829562</td>\n",
       "      <td>-0.938281</td>\n",
       "      <td>0.208192</td>\n",
       "      <td>0.156216</td>\n",
       "      <td>86</td>\n",
       "      <td>11</td>\n",
       "      <td>16</td>\n",
       "      <td>2017</td>\n",
       "      <td>1</td>\n",
       "      <td>4</td>\n",
       "    </tr>\n",
       "    <tr>\n",
       "      <th>4</th>\n",
       "      <td>17788</td>\n",
       "      <td>0.517125</td>\n",
       "      <td>1.266534</td>\n",
       "      <td>-0.34293</td>\n",
       "      <td>1.436151</td>\n",
       "      <td>-1.103904</td>\n",
       "      <td>-0.545514</td>\n",
       "      <td>1.297062</td>\n",
       "      <td>-0.202938</td>\n",
       "      <td>0.373639</td>\n",
       "      <td>0.829562</td>\n",
       "      <td>-0.938281</td>\n",
       "      <td>0.208192</td>\n",
       "      <td>0.156216</td>\n",
       "      <td>86</td>\n",
       "      <td>11</td>\n",
       "      <td>16</td>\n",
       "      <td>2017</td>\n",
       "      <td>1</td>\n",
       "      <td>5</td>\n",
       "    </tr>\n",
       "  </tbody>\n",
       "</table>\n",
       "</div>"
      ],
      "text/plain": [
       "   streams  danceability    energy      key  loudness      mode  speechiness  \\\n",
       "0    19272      0.517125  1.266534 -0.34293  1.436151 -1.103904    -0.545514   \n",
       "1    16672      0.517125  1.266534 -0.34293  1.436151 -1.103904    -0.545514   \n",
       "2    17258      0.517125  1.266534 -0.34293  1.436151 -1.103904    -0.545514   \n",
       "3    18146      0.517125  1.266534 -0.34293  1.436151 -1.103904    -0.545514   \n",
       "4    17788      0.517125  1.266534 -0.34293  1.436151 -1.103904    -0.545514   \n",
       "\n",
       "   acousticness  instrumentalness  liveness   valence     tempo  duration_ms  \\\n",
       "0      1.297062         -0.202938  0.373639  0.829562 -0.938281     0.208192   \n",
       "1      1.297062         -0.202938  0.373639  0.829562 -0.938281     0.208192   \n",
       "2      1.297062         -0.202938  0.373639  0.829562 -0.938281     0.208192   \n",
       "3      1.297062         -0.202938  0.373639  0.829562 -0.938281     0.208192   \n",
       "4      1.297062         -0.202938  0.373639  0.829562 -0.938281     0.208192   \n",
       "\n",
       "   time_signature  nameid  artistid  regionid  year  month  day  \n",
       "0        0.156216      86        11        16  2017      1    1  \n",
       "1        0.156216      86        11        16  2017      1    2  \n",
       "2        0.156216      86        11        16  2017      1    3  \n",
       "3        0.156216      86        11        16  2017      1    4  \n",
       "4        0.156216      86        11        16  2017      1    5  "
      ]
     },
     "execution_count": 25,
     "metadata": {},
     "output_type": "execute_result"
    }
   ],
   "source": [
    "col=['danceability', 'energy', 'key', 'loudness', 'mode',\n",
    "       'speechiness', 'acousticness', 'instrumentalness', 'liveness',\n",
    "       'valence', 'tempo', 'duration_ms', 'time_signature']\n",
    "scaler = preprocessing.StandardScaler().fit(df7[col])\n",
    "df7[col]=scaler.transform(df7[col])\n",
    "df7.head()"
   ]
  },
  {
   "cell_type": "code",
   "execution_count": 26,
   "metadata": {},
   "outputs": [
    {
     "data": {
      "text/plain": [
       "(1152043, 20)"
      ]
     },
     "execution_count": 26,
     "metadata": {},
     "output_type": "execute_result"
    }
   ],
   "source": [
    "df7.shape"
   ]
  },
  {
   "cell_type": "markdown",
   "metadata": {},
   "source": [
    "### Train-Valid-Test Split"
   ]
  },
  {
   "cell_type": "markdown",
   "metadata": {},
   "source": [
    "> Train 70%, Valid 15%, Test 15%"
   ]
  },
  {
   "cell_type": "code",
   "execution_count": 27,
   "metadata": {},
   "outputs": [],
   "source": [
    "y=df7['streams']\n",
    "x=df7.drop('streams',axis=1)"
   ]
  },
  {
   "cell_type": "code",
   "execution_count": 28,
   "metadata": {},
   "outputs": [],
   "source": [
    "x_tv,x_test,y_tv,y_test=train_test_split(x,y,test_size=0.15,random_state=101)\n"
   ]
  },
  {
   "cell_type": "code",
   "execution_count": 29,
   "metadata": {},
   "outputs": [
    {
     "name": "stdout",
     "output_type": "stream",
     "text": [
      "(806429, 19) (172807, 19) (172807, 19) (806429,) (172807,) (172807,)\n"
     ]
    }
   ],
   "source": [
    "x_train,x_valid,y_train,y_valid=train_test_split(x_tv,y_tv,test_size=0.176471,random_state=101)\n",
    "print(x_train.shape,x_valid.shape,x_test.shape,y_train.shape,y_valid.shape,y_test.shape)"
   ]
  },
  {
   "cell_type": "code",
   "execution_count": 30,
   "metadata": {},
   "outputs": [
    {
     "name": "stdout",
     "output_type": "stream",
     "text": [
      "Shape\n",
      "Train Set: (806429, 19) (806429,)\n",
      "Valid Set: (172807, 19) (172807,)\n",
      "Test Set: (172807, 19) (172807,)\n"
     ]
    }
   ],
   "source": [
    "print('Shape')\n",
    "print('Train Set:',x_train.shape,y_train.shape)\n",
    "print('Valid Set:',x_valid.shape,y_valid.shape)\n",
    "print('Test Set:',x_test.shape,y_test.shape)"
   ]
  },
  {
   "cell_type": "markdown",
   "metadata": {},
   "source": [
    "## Build Models with Random Forests & DNN"
   ]
  },
  {
   "cell_type": "markdown",
   "metadata": {},
   "source": [
    "### Random Forest: model training, tuning, and evaluation"
   ]
  },
  {
   "cell_type": "code",
   "execution_count": 31,
   "metadata": {},
   "outputs": [],
   "source": [
    "'''We need to check different values of max_features and n_estimators to test'''\n",
    "\n",
    "features_estimators_list = list()\n",
    "r2_list = list()\n",
    "\n",
    "max_features = ['auto', 'sqrt', 'log2', None]\n",
    "n_estimators = [10, 50, 100, 200]\n",
    "\n",
    "for feature in max_features:\n",
    "  for estimator in n_estimators:\n",
    "    my_model = RandomForestRegressor(n_jobs = -1, n_estimators = estimator, max_features = feature, \n",
    "                                     bootstrap = True, random_state = 101)\n",
    "    my_model.fit(x_train,y_train)\n",
    "    r2_score = my_model.score(x_valid, y_valid)\n",
    "    features_estimators_list.append(str(feature) + \"+\" + str(estimator))\n",
    "    r2_list.append(r2_score)"
   ]
  },
  {
   "cell_type": "code",
   "execution_count": 32,
   "metadata": {},
   "outputs": [
    {
     "data": {
      "text/html": [
       "<div>\n",
       "<style scoped>\n",
       "    .dataframe tbody tr th:only-of-type {\n",
       "        vertical-align: middle;\n",
       "    }\n",
       "\n",
       "    .dataframe tbody tr th {\n",
       "        vertical-align: top;\n",
       "    }\n",
       "\n",
       "    .dataframe thead th {\n",
       "        text-align: right;\n",
       "    }\n",
       "</style>\n",
       "<table border=\"1\" class=\"dataframe\">\n",
       "  <thead>\n",
       "    <tr style=\"text-align: right;\">\n",
       "      <th></th>\n",
       "      <th>Max features + Num of estimators</th>\n",
       "      <th>R2 Score</th>\n",
       "    </tr>\n",
       "  </thead>\n",
       "  <tbody>\n",
       "    <tr>\n",
       "      <th>0</th>\n",
       "      <td>auto+10</td>\n",
       "      <td>0.994560</td>\n",
       "    </tr>\n",
       "    <tr>\n",
       "      <th>1</th>\n",
       "      <td>auto+50</td>\n",
       "      <td>0.994893</td>\n",
       "    </tr>\n",
       "    <tr>\n",
       "      <th>2</th>\n",
       "      <td>auto+100</td>\n",
       "      <td>0.994986</td>\n",
       "    </tr>\n",
       "    <tr>\n",
       "      <th>3</th>\n",
       "      <td>auto+200</td>\n",
       "      <td>0.995051</td>\n",
       "    </tr>\n",
       "    <tr>\n",
       "      <th>4</th>\n",
       "      <td>sqrt+10</td>\n",
       "      <td>0.982445</td>\n",
       "    </tr>\n",
       "    <tr>\n",
       "      <th>5</th>\n",
       "      <td>sqrt+50</td>\n",
       "      <td>0.987567</td>\n",
       "    </tr>\n",
       "    <tr>\n",
       "      <th>6</th>\n",
       "      <td>sqrt+100</td>\n",
       "      <td>0.988217</td>\n",
       "    </tr>\n",
       "    <tr>\n",
       "      <th>7</th>\n",
       "      <td>sqrt+200</td>\n",
       "      <td>0.988787</td>\n",
       "    </tr>\n",
       "    <tr>\n",
       "      <th>8</th>\n",
       "      <td>log2+10</td>\n",
       "      <td>0.982445</td>\n",
       "    </tr>\n",
       "    <tr>\n",
       "      <th>9</th>\n",
       "      <td>log2+50</td>\n",
       "      <td>0.987567</td>\n",
       "    </tr>\n",
       "    <tr>\n",
       "      <th>10</th>\n",
       "      <td>log2+100</td>\n",
       "      <td>0.988217</td>\n",
       "    </tr>\n",
       "    <tr>\n",
       "      <th>11</th>\n",
       "      <td>log2+200</td>\n",
       "      <td>0.988787</td>\n",
       "    </tr>\n",
       "    <tr>\n",
       "      <th>12</th>\n",
       "      <td>None+10</td>\n",
       "      <td>0.994560</td>\n",
       "    </tr>\n",
       "    <tr>\n",
       "      <th>13</th>\n",
       "      <td>None+50</td>\n",
       "      <td>0.994893</td>\n",
       "    </tr>\n",
       "    <tr>\n",
       "      <th>14</th>\n",
       "      <td>None+100</td>\n",
       "      <td>0.994986</td>\n",
       "    </tr>\n",
       "    <tr>\n",
       "      <th>15</th>\n",
       "      <td>None+200</td>\n",
       "      <td>0.995051</td>\n",
       "    </tr>\n",
       "  </tbody>\n",
       "</table>\n",
       "</div>"
      ],
      "text/plain": [
       "   Max features + Num of estimators  R2 Score\n",
       "0                           auto+10  0.994560\n",
       "1                           auto+50  0.994893\n",
       "2                          auto+100  0.994986\n",
       "3                          auto+200  0.995051\n",
       "4                           sqrt+10  0.982445\n",
       "5                           sqrt+50  0.987567\n",
       "6                          sqrt+100  0.988217\n",
       "7                          sqrt+200  0.988787\n",
       "8                           log2+10  0.982445\n",
       "9                           log2+50  0.987567\n",
       "10                         log2+100  0.988217\n",
       "11                         log2+200  0.988787\n",
       "12                          None+10  0.994560\n",
       "13                          None+50  0.994893\n",
       "14                         None+100  0.994986\n",
       "15                         None+200  0.995051"
      ]
     },
     "execution_count": 32,
     "metadata": {},
     "output_type": "execute_result"
    }
   ],
   "source": [
    "eval_df = pd.DataFrame({\"Max features + Num of estimators\": features_estimators_list,\n",
    "                        \"R2 Score\": r2_list})\n",
    "eval_df"
   ]
  },
  {
   "cell_type": "code",
   "execution_count": 33,
   "metadata": {},
   "outputs": [
    {
     "data": {
      "text/plain": [
       "<seaborn.axisgrid.PairGrid at 0x7fe4906d38b0>"
      ]
     },
     "execution_count": 33,
     "metadata": {},
     "output_type": "execute_result"
    },
    {
     "data": {
      "image/png": "[encoded data removed]",
      "text/plain": [
       "<Figure size 864x864 with 1 Axes>"
      ]
     },
     "metadata": {},
     "output_type": "display_data"
    }
   ],
   "source": [
    "'''Plot max_features + n_estimators Vs validation set accuracy of the model'''\n",
    "\n",
    "sns.set_style(\"whitegrid\")\n",
    "sns.pairplot(eval_df,x_vars = \"Max features + Num of estimators\",\n",
    "             y_vars = \"R2 Score\",plot_kws = {'s': 60},height = 12.0)"
   ]
  },
  {
   "cell_type": "code",
   "execution_count": 34,
   "metadata": {},
   "outputs": [
    {
     "name": "stdout",
     "output_type": "stream",
     "text": [
      "Max R2 score: 0.9950511592029025\n",
      "Best max_features + n_estimators: auto+200\n"
     ]
    }
   ],
   "source": [
    "'''Find the best max_features/n_estimators combination'''\n",
    "\n",
    "r2_max = max(r2_list)\n",
    "index = r2_list.index(r2_max)\n",
    "\n",
    "print('Max R2 score:', r2_max)\n",
    "print('Best max_features + n_estimators:', features_estimators_list[index])"
   ]
  },
  {
   "cell_type": "code",
   "execution_count": 35,
   "metadata": {},
   "outputs": [
    {
     "data": {
      "text/plain": [
       "RandomForestRegressor(n_estimators=200, n_jobs=-1, random_state=101)"
      ]
     },
     "execution_count": 35,
     "metadata": {},
     "output_type": "execute_result"
    }
   ],
   "source": [
    "'''max_features = Auto and n_estimators = 200 seems to give the best validation set R2 score.\n",
    "So, let's turn to the test set and max_features = Auto, n_estimators = 200 for that'''\n",
    "\n",
    "mod_RF = RandomForestRegressor(n_jobs = -1, n_estimators = 200, max_features = 'auto',\n",
    "                               bootstrap = True, random_state = 101)\n",
    "mod_RF.fit(x_train,y_train)"
   ]
  },
  {
   "cell_type": "code",
   "execution_count": 38,
   "metadata": {},
   "outputs": [
    {
     "name": "stdout",
     "output_type": "stream",
     "text": [
      "MSE: 565755928.5226272\n",
      "R2 score: 0.99483558071114\n"
     ]
    }
   ],
   "source": [
    "'''Evaluate the model'''\n",
    "\n",
    "y_predict_RF = mod_RF.predict(x_test)\n",
    "mse_test_RF = mean_squared_error(y_test, y_predict_RF)\n",
    "r2_test_RF = r2_score(y_test, y_predict_RF)\n",
    "\n",
    "print('MSE:', mse_test_RF)\n",
    "print('R2 score:', r2_test_RF)"
   ]
  },
  {
   "cell_type": "markdown",
   "metadata": {},
   "source": [
    "### DNN: model training, tuning, and evaluation"
   ]
  },
  {
   "cell_type": "code",
   "execution_count": 39,
   "metadata": {},
   "outputs": [],
   "source": [
    "'''Function to create model, required for KerasRegressor'''\n",
    "\n",
    "def create_model():\n",
    "    model = Sequential()\n",
    "    model.add(Dense(10, input_dim=19, kernel_initializer='normal', activation='relu'))\n",
    "    model.add(Dense(6, kernel_initializer='normal', activation='relu'))\n",
    "    model.add(Dense(1, kernel_initializer='normal', activation='relu'))\n",
    "    model.compile(loss='mse', optimizer='adam', metrics=['mse'])\n",
    "    return model"
   ]
  },
  {
   "cell_type": "code",
   "execution_count": 40,
   "metadata": {},
   "outputs": [],
   "source": [
    "'''create model'''\n",
    "\n",
    "model = KerasRegressor(build_fn=create_model, verbose=0)"
   ]
  },
  {
   "cell_type": "code",
   "execution_count": 41,
   "metadata": {},
   "outputs": [],
   "source": [
    "'''define the grid search parameters'''\n",
    "\n",
    "batch_size = [1000, 2000]\n",
    "epochs = [50, 100]\n",
    "param_grid = dict(batch_size=batch_size, epochs=epochs)\n",
    "grid = GridSearchCV(estimator=model, param_grid=param_grid, n_jobs=-1)\n",
    "grid_result = grid.fit(x_train, y_train, validation_data=(x_valid, y_valid))"
   ]
  },
  {
   "cell_type": "code",
   "execution_count": 42,
   "metadata": {},
   "outputs": [
    {
     "name": "stdout",
     "output_type": "stream",
     "text": [
      "Best: -108427981619.199997 using {'batch_size': 2000, 'epochs': 100}\n",
      "-111246080409.600006 (2702849430.185456) with: {'batch_size': 1000, 'epochs': 50}\n",
      "-109886819532.800003 (3519392578.984913) with: {'batch_size': 1000, 'epochs': 100}\n",
      "-108446885478.399994 (2426855004.636660) with: {'batch_size': 2000, 'epochs': 50}\n",
      "-108427981619.199997 (2436732129.700740) with: {'batch_size': 2000, 'epochs': 100}\n"
     ]
    }
   ],
   "source": [
    "'''summarize results，find the best batch_size/epochs combination'''\n",
    "\n",
    "print(\"Best: %f using %s\" % (grid_result.best_score_, grid_result.best_params_))\n",
    "means = grid_result.cv_results_['mean_test_score']\n",
    "stds = grid_result.cv_results_['std_test_score']\n",
    "params = grid_result.cv_results_['params']\n",
    "for mean, stdev, param in zip(means, stds, params):\n",
    "    print(\"%f (%f) with: %r\" % (mean, stdev, param))"
   ]
  },
  {
   "cell_type": "code",
   "execution_count": 43,
   "metadata": {},
   "outputs": [],
   "source": [
    "'''Build the deep neural network and compile the DNN'''\n",
    "\n",
    "mod_DNN = Sequential()\n",
    "mod_DNN.add(Dense(10, input_dim=19, kernel_initializer='normal', activation='relu'))\n",
    "mod_DNN.add(Dense(6, kernel_initializer='normal', activation='relu'))\n",
    "mod_DNN.add(Dense(1, kernel_initializer='normal', activation='relu'))\n",
    "\n",
    "mod_DNN.compile(loss='mse', optimizer='adam', metrics=['mse'])"
   ]
  },
  {
   "cell_type": "code",
   "execution_count": 44,
   "metadata": {},
   "outputs": [
    {
     "name": "stdout",
     "output_type": "stream",
     "text": [
      "Epoch 1/100\n",
      "404/404 [==============================] - 1s 1ms/step - loss: 112692084736.0000 - mse: 112692084736.0000 - val_loss: 114303647744.0000 - val_mse: 114303647744.0000\n",
      "Epoch 2/100\n",
      "404/404 [==============================] - 0s 956us/step - loss: 112692011008.0000 - mse: 112692019200.0000 - val_loss: 114303647744.0000 - val_mse: 114303647744.0000\n",
      "Epoch 3/100\n",
      "404/404 [==============================] - 0s 950us/step - loss: 112692043776.0000 - mse: 112692043776.0000 - val_loss: 114303647744.0000 - val_mse: 114303647744.0000\n",
      "Epoch 4/100\n",
      "404/404 [==============================] - 0s 971us/step - loss: 112692043776.0000 - mse: 112692043776.0000 - val_loss: 114303647744.0000 - val_mse: 114303647744.0000\n",
      "Epoch 5/100\n",
      "404/404 [==============================] - 0s 954us/step - loss: 112692035584.0000 - mse: 112692035584.0000 - val_loss: 114303647744.0000 - val_mse: 114303647744.0000\n",
      "Epoch 6/100\n",
      "404/404 [==============================] - 0s 998us/step - loss: 112691978240.0000 - mse: 112691978240.0000 - val_loss: 114303647744.0000 - val_mse: 114303647744.0000\n",
      "Epoch 7/100\n",
      "404/404 [==============================] - 0s 984us/step - loss: 112692084736.0000 - mse: 112692084736.0000 - val_loss: 114303647744.0000 - val_mse: 114303647744.0000\n",
      "Epoch 8/100\n",
      "404/404 [==============================] - 0s 978us/step - loss: 112692011008.0000 - mse: 112692011008.0000 - val_loss: 114303647744.0000 - val_mse: 114303647744.0000\n",
      "Epoch 9/100\n",
      "404/404 [==============================] - 0s 987us/step - loss: 112692019200.0000 - mse: 112692019200.0000 - val_loss: 114303647744.0000 - val_mse: 114303647744.0000\n",
      "Epoch 10/100\n",
      "404/404 [==============================] - 0s 982us/step - loss: 112692068352.0000 - mse: 112692068352.0000 - val_loss: 114303647744.0000 - val_mse: 114303647744.0000\n",
      "Epoch 11/100\n",
      "404/404 [==============================] - 0s 964us/step - loss: 112692011008.0000 - mse: 112692011008.0000 - val_loss: 114303647744.0000 - val_mse: 114303647744.0000\n",
      "Epoch 12/100\n",
      "404/404 [==============================] - 0s 993us/step - loss: 112692043776.0000 - mse: 112692043776.0000 - val_loss: 114303647744.0000 - val_mse: 114303647744.0000\n",
      "Epoch 13/100\n",
      "404/404 [==============================] - 0s 996us/step - loss: 112691986432.0000 - mse: 112691986432.0000 - val_loss: 114303647744.0000 - val_mse: 114303647744.0000\n",
      "Epoch 14/100\n",
      "404/404 [==============================] - 0s 968us/step - loss: 112692011008.0000 - mse: 112692011008.0000 - val_loss: 114303647744.0000 - val_mse: 114303647744.0000\n",
      "Epoch 15/100\n",
      "404/404 [==============================] - 0s 980us/step - loss: 112692035584.0000 - mse: 112692035584.0000 - val_loss: 114303647744.0000 - val_mse: 114303647744.0000\n",
      "Epoch 16/100\n",
      "404/404 [==============================] - 0s 973us/step - loss: 112692084736.0000 - mse: 112692084736.0000 - val_loss: 114303647744.0000 - val_mse: 114303647744.0000\n",
      "Epoch 17/100\n",
      "404/404 [==============================] - 0s 1ms/step - loss: 112692043776.0000 - mse: 112692043776.0000 - val_loss: 114303647744.0000 - val_mse: 114303647744.0000\n",
      "Epoch 18/100\n",
      "404/404 [==============================] - 0s 1ms/step - loss: 112692043776.0000 - mse: 112692043776.0000 - val_loss: 114303647744.0000 - val_mse: 114303647744.0000\n",
      "Epoch 19/100\n",
      "404/404 [==============================] - 0s 1ms/step - loss: 112692035584.0000 - mse: 112692035584.0000 - val_loss: 114303647744.0000 - val_mse: 114303647744.0000\n",
      "Epoch 20/100\n",
      "404/404 [==============================] - 0s 971us/step - loss: 112692002816.0000 - mse: 112692002816.0000 - val_loss: 114303647744.0000 - val_mse: 114303647744.0000\n",
      "Epoch 21/100\n",
      "404/404 [==============================] - 0s 976us/step - loss: 112692076544.0000 - mse: 112692076544.0000 - val_loss: 114303647744.0000 - val_mse: 114303647744.0000\n",
      "Epoch 22/100\n",
      "404/404 [==============================] - 0s 1ms/step - loss: 112692084736.0000 - mse: 112692084736.0000 - val_loss: 114303647744.0000 - val_mse: 114303647744.0000\n",
      "Epoch 23/100\n",
      "404/404 [==============================] - 0s 981us/step - loss: 112692084736.0000 - mse: 112692084736.0000 - val_loss: 114303647744.0000 - val_mse: 114303647744.0000\n",
      "Epoch 24/100\n",
      "404/404 [==============================] - 0s 976us/step - loss: 112692043776.0000 - mse: 112692043776.0000 - val_loss: 114303647744.0000 - val_mse: 114303647744.0000\n",
      "Epoch 25/100\n",
      "404/404 [==============================] - 0s 991us/step - loss: 112692019200.0000 - mse: 112692019200.0000 - val_loss: 114303647744.0000 - val_mse: 114303647744.0000\n",
      "Epoch 26/100\n",
      "404/404 [==============================] - 0s 1ms/step - loss: 112692011008.0000 - mse: 112692011008.0000 - val_loss: 114303647744.0000 - val_mse: 114303647744.0000\n",
      "Epoch 27/100\n",
      "404/404 [==============================] - 0s 1ms/step - loss: 112692043776.0000 - mse: 112692043776.0000 - val_loss: 114303647744.0000 - val_mse: 114303647744.0000\n",
      "Epoch 28/100\n",
      "404/404 [==============================] - 0s 1ms/step - loss: 112692035584.0000 - mse: 112692035584.0000 - val_loss: 114303647744.0000 - val_mse: 114303647744.0000\n",
      "Epoch 29/100\n",
      "404/404 [==============================] - 0s 998us/step - loss: 112692051968.0000 - mse: 112692051968.0000 - val_loss: 114303647744.0000 - val_mse: 114303647744.0000\n",
      "Epoch 30/100\n",
      "404/404 [==============================] - 0s 1ms/step - loss: 112692019200.0000 - mse: 112692019200.0000 - val_loss: 114303647744.0000 - val_mse: 114303647744.0000\n",
      "Epoch 31/100\n",
      "404/404 [==============================] - 0s 995us/step - loss: 112692002816.0000 - mse: 112692002816.0000 - val_loss: 114303647744.0000 - val_mse: 114303647744.0000\n",
      "Epoch 32/100\n",
      "404/404 [==============================] - 0s 1ms/step - loss: 112692019200.0000 - mse: 112692019200.0000 - val_loss: 114303647744.0000 - val_mse: 114303647744.0000\n",
      "Epoch 33/100\n",
      "404/404 [==============================] - 0s 991us/step - loss: 112692011008.0000 - mse: 112692011008.0000 - val_loss: 114303647744.0000 - val_mse: 114303647744.0000\n",
      "Epoch 34/100\n",
      "404/404 [==============================] - 0s 996us/step - loss: 112692019200.0000 - mse: 112692019200.0000 - val_loss: 114303647744.0000 - val_mse: 114303647744.0000\n",
      "Epoch 35/100\n",
      "404/404 [==============================] - 0s 979us/step - loss: 112692035584.0000 - mse: 112692035584.0000 - val_loss: 114303647744.0000 - val_mse: 114303647744.0000\n",
      "Epoch 36/100\n",
      "404/404 [==============================] - 0s 1ms/step - loss: 112692011008.0000 - mse: 112692011008.0000 - val_loss: 114303647744.0000 - val_mse: 114303647744.0000\n",
      "Epoch 37/100\n",
      "404/404 [==============================] - 0s 1ms/step - loss: 112692043776.0000 - mse: 112692043776.0000 - val_loss: 114303647744.0000 - val_mse: 114303647744.0000\n",
      "Epoch 38/100\n",
      "404/404 [==============================] - 0s 961us/step - loss: 112692035584.0000 - mse: 112692035584.0000 - val_loss: 114303647744.0000 - val_mse: 114303647744.0000\n",
      "Epoch 39/100\n",
      "404/404 [==============================] - 0s 970us/step - loss: 112692011008.0000 - mse: 112692011008.0000 - val_loss: 114303647744.0000 - val_mse: 114303647744.0000\n",
      "Epoch 40/100\n",
      "404/404 [==============================] - 0s 1ms/step - loss: 112692002816.0000 - mse: 112692002816.0000 - val_loss: 114303647744.0000 - val_mse: 114303647744.0000\n",
      "Epoch 41/100\n",
      "404/404 [==============================] - 0s 1ms/step - loss: 112692109312.0000 - mse: 112692109312.0000 - val_loss: 114303647744.0000 - val_mse: 114303647744.0000\n",
      "Epoch 42/100\n",
      "404/404 [==============================] - 0s 958us/step - loss: 112692084736.0000 - mse: 112692084736.0000 - val_loss: 114303647744.0000 - val_mse: 114303647744.0000\n",
      "Epoch 43/100\n",
      "404/404 [==============================] - 0s 984us/step - loss: 112692068352.0000 - mse: 112692068352.0000 - val_loss: 114303647744.0000 - val_mse: 114303647744.0000\n",
      "Epoch 44/100\n",
      "404/404 [==============================] - 0s 985us/step - loss: 112692019200.0000 - mse: 112692019200.0000 - val_loss: 114303647744.0000 - val_mse: 114303647744.0000\n",
      "Epoch 45/100\n",
      "404/404 [==============================] - 0s 959us/step - loss: 112692035584.0000 - mse: 112692035584.0000 - val_loss: 114303647744.0000 - val_mse: 114303647744.0000\n",
      "Epoch 46/100\n",
      "404/404 [==============================] - 0s 969us/step - loss: 112692068352.0000 - mse: 112692068352.0000 - val_loss: 114303647744.0000 - val_mse: 114303647744.0000\n"
     ]
    },
    {
     "name": "stdout",
     "output_type": "stream",
     "text": [
      "Epoch 47/100\n",
      "404/404 [==============================] - 0s 994us/step - loss: 112692051968.0000 - mse: 112692051968.0000 - val_loss: 114303647744.0000 - val_mse: 114303647744.0000\n",
      "Epoch 48/100\n",
      "404/404 [==============================] - 0s 961us/step - loss: 112692011008.0000 - mse: 112692011008.0000 - val_loss: 114303647744.0000 - val_mse: 114303647744.0000\n",
      "Epoch 49/100\n",
      "404/404 [==============================] - 0s 965us/step - loss: 112692043776.0000 - mse: 112692043776.0000 - val_loss: 114303647744.0000 - val_mse: 114303647744.0000\n",
      "Epoch 50/100\n",
      "404/404 [==============================] - 0s 967us/step - loss: 112692051968.0000 - mse: 112692051968.0000 - val_loss: 114303647744.0000 - val_mse: 114303647744.0000\n",
      "Epoch 51/100\n",
      "404/404 [==============================] - 0s 961us/step - loss: 112692011008.0000 - mse: 112692011008.0000 - val_loss: 114303647744.0000 - val_mse: 114303647744.0000\n",
      "Epoch 52/100\n",
      "404/404 [==============================] - 0s 951us/step - loss: 112692051968.0000 - mse: 112692051968.0000 - val_loss: 114303647744.0000 - val_mse: 114303647744.0000\n",
      "Epoch 53/100\n",
      "404/404 [==============================] - 0s 950us/step - loss: 112692043776.0000 - mse: 112692043776.0000 - val_loss: 114303647744.0000 - val_mse: 114303647744.0000\n",
      "Epoch 54/100\n",
      "404/404 [==============================] - 0s 953us/step - loss: 112692125696.0000 - mse: 112692125696.0000 - val_loss: 114303647744.0000 - val_mse: 114303647744.0000\n",
      "Epoch 55/100\n",
      "404/404 [==============================] - 0s 962us/step - loss: 112692011008.0000 - mse: 112692011008.0000 - val_loss: 114303647744.0000 - val_mse: 114303647744.0000\n",
      "Epoch 56/100\n",
      "404/404 [==============================] - 0s 949us/step - loss: 112692068352.0000 - mse: 112692068352.0000 - val_loss: 114303647744.0000 - val_mse: 114303647744.0000\n",
      "Epoch 57/100\n",
      "404/404 [==============================] - 0s 987us/step - loss: 112692043776.0000 - mse: 112692043776.0000 - val_loss: 114303647744.0000 - val_mse: 114303647744.0000\n",
      "Epoch 58/100\n",
      "404/404 [==============================] - 0s 950us/step - loss: 112692011008.0000 - mse: 112692011008.0000 - val_loss: 114303647744.0000 - val_mse: 114303647744.0000\n",
      "Epoch 59/100\n",
      "404/404 [==============================] - 0s 948us/step - loss: 112692002816.0000 - mse: 112692002816.0000 - val_loss: 114303647744.0000 - val_mse: 114303647744.0000\n",
      "Epoch 60/100\n",
      "404/404 [==============================] - 0s 967us/step - loss: 112692092928.0000 - mse: 112692092928.0000 - val_loss: 114303647744.0000 - val_mse: 114303647744.0000\n",
      "Epoch 61/100\n",
      "404/404 [==============================] - 0s 955us/step - loss: 112692035584.0000 - mse: 112692035584.0000 - val_loss: 114303647744.0000 - val_mse: 114303647744.0000\n",
      "Epoch 62/100\n",
      "404/404 [==============================] - 0s 954us/step - loss: 112692092928.0000 - mse: 112692092928.0000 - val_loss: 114303647744.0000 - val_mse: 114303647744.0000\n",
      "Epoch 63/100\n",
      "404/404 [==============================] - 0s 952us/step - loss: 112692125696.0000 - mse: 112692125696.0000 - val_loss: 114303647744.0000 - val_mse: 114303647744.0000\n",
      "Epoch 64/100\n",
      "404/404 [==============================] - 0s 956us/step - loss: 112692109312.0000 - mse: 112692109312.0000 - val_loss: 114303647744.0000 - val_mse: 114303647744.0000\n",
      "Epoch 65/100\n",
      "404/404 [==============================] - 0s 943us/step - loss: 112692076544.0000 - mse: 112692076544.0000 - val_loss: 114303647744.0000 - val_mse: 114303647744.0000\n",
      "Epoch 66/100\n",
      "404/404 [==============================] - 0s 955us/step - loss: 112692068352.0000 - mse: 112692068352.0000 - val_loss: 114303647744.0000 - val_mse: 114303647744.0000\n",
      "Epoch 67/100\n",
      "404/404 [==============================] - 0s 950us/step - loss: 112692002816.0000 - mse: 112692002816.0000 - val_loss: 114303647744.0000 - val_mse: 114303647744.0000\n",
      "Epoch 68/100\n",
      "404/404 [==============================] - 0s 991us/step - loss: 112692051968.0000 - mse: 112692051968.0000 - val_loss: 114303647744.0000 - val_mse: 114303647744.0000\n",
      "Epoch 69/100\n",
      "404/404 [==============================] - 0s 948us/step - loss: 112692011008.0000 - mse: 112692011008.0000 - val_loss: 114303647744.0000 - val_mse: 114303647744.0000\n",
      "Epoch 70/100\n",
      "404/404 [==============================] - 0s 961us/step - loss: 112692011008.0000 - mse: 112692011008.0000 - val_loss: 114303647744.0000 - val_mse: 114303647744.0000\n",
      "Epoch 71/100\n",
      "404/404 [==============================] - 0s 939us/step - loss: 112692051968.0000 - mse: 112692051968.0000 - val_loss: 114303647744.0000 - val_mse: 114303647744.0000\n",
      "Epoch 72/100\n",
      "404/404 [==============================] - 0s 955us/step - loss: 112691978240.0000 - mse: 112691978240.0000 - val_loss: 114303647744.0000 - val_mse: 114303647744.0000\n",
      "Epoch 73/100\n",
      "404/404 [==============================] - 0s 953us/step - loss: 112692011008.0000 - mse: 112692011008.0000 - val_loss: 114303647744.0000 - val_mse: 114303647744.0000\n",
      "Epoch 74/100\n",
      "404/404 [==============================] - 0s 949us/step - loss: 112691978240.0000 - mse: 112691978240.0000 - val_loss: 114303647744.0000 - val_mse: 114303647744.0000\n",
      "Epoch 75/100\n",
      "404/404 [==============================] - 0s 957us/step - loss: 112691986432.0000 - mse: 112691986432.0000 - val_loss: 114303647744.0000 - val_mse: 114303647744.0000\n",
      "Epoch 76/100\n",
      "404/404 [==============================] - 0s 949us/step - loss: 112692019200.0000 - mse: 112692019200.0000 - val_loss: 114303647744.0000 - val_mse: 114303647744.0000\n",
      "Epoch 77/100\n",
      "404/404 [==============================] - 0s 951us/step - loss: 112691986432.0000 - mse: 112691986432.0000 - val_loss: 114303647744.0000 - val_mse: 114303647744.0000\n",
      "Epoch 78/100\n",
      "404/404 [==============================] - 0s 958us/step - loss: 112692068352.0000 - mse: 112692068352.0000 - val_loss: 114303647744.0000 - val_mse: 114303647744.0000\n",
      "Epoch 79/100\n",
      "404/404 [==============================] - 0s 953us/step - loss: 112692002816.0000 - mse: 112692002816.0000 - val_loss: 114303647744.0000 - val_mse: 114303647744.0000\n",
      "Epoch 80/100\n",
      "404/404 [==============================] - 0s 963us/step - loss: 112692043776.0000 - mse: 112692043776.0000 - val_loss: 114303647744.0000 - val_mse: 114303647744.0000\n",
      "Epoch 81/100\n",
      "404/404 [==============================] - 0s 1ms/step - loss: 112692043776.0000 - mse: 112692043776.0000 - val_loss: 114303647744.0000 - val_mse: 114303647744.0000\n",
      "Epoch 82/100\n",
      "404/404 [==============================] - 0s 978us/step - loss: 112692011008.0000 - mse: 112692011008.0000 - val_loss: 114303647744.0000 - val_mse: 114303647744.0000\n",
      "Epoch 83/100\n",
      "404/404 [==============================] - 0s 986us/step - loss: 112692076544.0000 - mse: 112692076544.0000 - val_loss: 114303647744.0000 - val_mse: 114303647744.0000\n",
      "Epoch 84/100\n",
      "404/404 [==============================] - 0s 973us/step - loss: 112692011008.0000 - mse: 112692011008.0000 - val_loss: 114303647744.0000 - val_mse: 114303647744.0000\n",
      "Epoch 85/100\n",
      "404/404 [==============================] - 0s 966us/step - loss: 112692035584.0000 - mse: 112692035584.0000 - val_loss: 114303647744.0000 - val_mse: 114303647744.0000\n",
      "Epoch 86/100\n",
      "404/404 [==============================] - 0s 1000us/step - loss: 112692019200.0000 - mse: 112692019200.0000 - val_loss: 114303647744.0000 - val_mse: 114303647744.0000\n",
      "Epoch 87/100\n",
      "404/404 [==============================] - 0s 964us/step - loss: 112692019200.0000 - mse: 112692019200.0000 - val_loss: 114303647744.0000 - val_mse: 114303647744.0000\n",
      "Epoch 88/100\n",
      "404/404 [==============================] - 0s 963us/step - loss: 112692084736.0000 - mse: 112692084736.0000 - val_loss: 114303647744.0000 - val_mse: 114303647744.0000\n",
      "Epoch 89/100\n",
      "404/404 [==============================] - 0s 961us/step - loss: 112692019200.0000 - mse: 112692019200.0000 - val_loss: 114303647744.0000 - val_mse: 114303647744.0000\n",
      "Epoch 90/100\n",
      "404/404 [==============================] - 0s 949us/step - loss: 112691937280.0000 - mse: 112691937280.0000 - val_loss: 114303647744.0000 - val_mse: 114303647744.0000\n",
      "Epoch 91/100\n",
      "404/404 [==============================] - 0s 955us/step - loss: 112692043776.0000 - mse: 112692043776.0000 - val_loss: 114303647744.0000 - val_mse: 114303647744.0000\n",
      "Epoch 92/100\n"
     ]
    },
    {
     "name": "stdout",
     "output_type": "stream",
     "text": [
      "404/404 [==============================] - 0s 956us/step - loss: 112692092928.0000 - mse: 112692092928.0000 - val_loss: 114303647744.0000 - val_mse: 114303647744.0000\n",
      "Epoch 93/100\n",
      "404/404 [==============================] - 0s 969us/step - loss: 112692051968.0000 - mse: 112692051968.0000 - val_loss: 114303647744.0000 - val_mse: 114303647744.0000\n",
      "Epoch 94/100\n",
      "404/404 [==============================] - 0s 995us/step - loss: 112692019200.0000 - mse: 112692019200.0000 - val_loss: 114303647744.0000 - val_mse: 114303647744.0000\n",
      "Epoch 95/100\n",
      "404/404 [==============================] - 0s 949us/step - loss: 112692035584.0000 - mse: 112692035584.0000 - val_loss: 114303647744.0000 - val_mse: 114303647744.0000\n",
      "Epoch 96/100\n",
      "404/404 [==============================] - 0s 949us/step - loss: 112692043776.0000 - mse: 112692043776.0000 - val_loss: 114303647744.0000 - val_mse: 114303647744.0000\n",
      "Epoch 97/100\n",
      "404/404 [==============================] - 0s 947us/step - loss: 112692084736.0000 - mse: 112692084736.0000 - val_loss: 114303647744.0000 - val_mse: 114303647744.0000\n",
      "Epoch 98/100\n",
      "404/404 [==============================] - 0s 1ms/step - loss: 112691978240.0000 - mse: 112691978240.0000 - val_loss: 114303647744.0000 - val_mse: 114303647744.0000\n",
      "Epoch 99/100\n",
      "404/404 [==============================] - 0s 1ms/step - loss: 112692068352.0000 - mse: 112692068352.0000 - val_loss: 114303647744.0000 - val_mse: 114303647744.0000\n",
      "Epoch 100/100\n",
      "404/404 [==============================] - 0s 1ms/step - loss: 112692002816.0000 - mse: 112692002816.0000 - val_loss: 114303647744.0000 - val_mse: 114303647744.0000\n"
     ]
    }
   ],
   "source": [
    "'''Fit the DNN with train data'''\n",
    "\n",
    "history = mod_DNN.fit(x_train, y_train, validation_data=(x_valid, y_valid), epochs=100, batch_size=2000)"
   ]
  },
  {
   "cell_type": "code",
   "execution_count": 45,
   "metadata": {},
   "outputs": [
    {
     "name": "stdout",
     "output_type": "stream",
     "text": [
      "dict_keys(['loss', 'mse', 'val_loss', 'val_mse'])\n"
     ]
    },
    {
     "data": {
      "image/png": "[encoded data removed]",
      "text/plain": [
       "<Figure size 432x288 with 1 Axes>"
      ]
     },
     "metadata": {},
     "output_type": "display_data"
    }
   ],
   "source": [
    "'''Plot epoch vs training set MSE and validation set MSE'''\n",
    "\n",
    "print(history.history.keys())\n",
    "\n",
    "plt.plot(history.history['mse'])\n",
    "plt.plot(history.history['val_mse'])\n",
    "plt.title('Mean Squared Error')\n",
    "plt.ylabel('MSE')\n",
    "plt.xlabel('Epoch')\n",
    "plt.legend(['train', 'validation'], loc='upper left')\n",
    "plt.show()"
   ]
  },
  {
   "cell_type": "code",
   "execution_count": 46,
   "metadata": {},
   "outputs": [
    {
     "name": "stdout",
     "output_type": "stream",
     "text": [
      "MSE: 116658165397.24767\n",
      "R2 score: -0.0648968030327397\n"
     ]
    }
   ],
   "source": [
    "'''Evaluate the model'''\n",
    "\n",
    "y_predict_DNN = mod_DNN.predict(x_test)\n",
    "mse_DNN = mean_squared_error(y_test, y_predict_DNN)\n",
    "r2_DNN = r2_score(y_test, y_predict_DNN)\n",
    "\n",
    "print('MSE:', mse_DNN)\n",
    "print('R2 score:', r2_DNN)"
   ]
  },
  {
   "cell_type": "markdown",
   "metadata": {},
   "source": [
    "## Compare the results of Random Forests & DNN"
   ]
  },
  {
   "cell_type": "code",
   "execution_count": 48,
   "metadata": {},
   "outputs": [
    {
     "name": "stdout",
     "output_type": "stream",
     "text": [
      "Random Forests Model:\n",
      "R2 score: 0.99483558071114\n",
      "MSE: 565755928.5226272\n",
      "Neural Networks Model:\n",
      "R2 score: -0.0648968030327397\n",
      "MSE: 116658165397.24767\n"
     ]
    }
   ],
   "source": [
    "print('Random Forests Model:')\n",
    "print('R2 score:', r2_test_RF)\n",
    "print('MSE:', mse_test_RF)\n",
    "\n",
    "print('Neural Networks Model:')\n",
    "print('R2 score:', r2_DNN)\n",
    "print('MSE:', mse_DNN)"
   ]
  }
 ],
 "metadata": {
  "kernelspec": {
   "display_name": "Python 3",
   "language": "python",
   "name": "python3"
  },
  "language_info": {
   "codemirror_mode": {
    "name": "ipython",
    "version": 3
   },
   "file_extension": ".py",
   "mimetype": "text/x-python",
   "name": "python",
   "nbconvert_exporter": "python",
   "pygments_lexer": "ipython3",
   "version": "3.8.3"
  }
 },
 "nbformat": 4,
 "nbformat_minor": 4
}
